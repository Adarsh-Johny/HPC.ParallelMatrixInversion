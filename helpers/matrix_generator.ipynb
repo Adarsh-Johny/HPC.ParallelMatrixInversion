{
 "cells": [
  {
   "cell_type": "code",
   "execution_count": 1,
   "metadata": {},
   "outputs": [
    {
     "name": "stdout",
     "output_type": "stream",
     "text": [
      "Original Matrix:\n",
      "0.00\t3.00\t2.00\n",
      "1.00\t0.00\t2.00\n",
      "0.00\t0.00\t1.00\n",
      "\n",
      "Augmented Matrix:\n",
      "1.00\t0.00\t0.00\t0.00\t1.00\t-2.00\n",
      "0.00\t1.00\t0.00\t0.33\t0.00\t-0.67\n",
      "0.00\t0.00\t1.00\t0.00\t0.00\t1.00\n",
      "\n",
      "Reduced Row Echelon Form (RREF):\n",
      "1.00\t0.00\t0.00\t0.00\t1.00\t-2.00\n",
      "0.00\t1.00\t0.00\t0.33\t0.00\t-0.67\n",
      "0.00\t0.00\t1.00\t0.00\t0.00\t1.00\n",
      "\n",
      "Inverse Matrix:\n",
      "0.00\t1.00\t-2.00\n",
      "0.33\t0.00\t-0.67\n",
      "0.00\t0.00\t1.00\n",
      "\n"
     ]
    }
   ],
   "source": [
    "import numpy as np\n",
    "\n",
    "def generate_invertible_matrix(size):\n",
    "    while True:\n",
    "        # Generate a random matrix of the specified size\n",
    "        matrix = np.random.rand(size, size) * 100  # Scale values for variety\n",
    "        \n",
    "        # Check if the matrix is invertible by ensuring the determinant is not zero\n",
    "        if np.linalg.det(matrix) != 0:\n",
    "            return matrix\n",
    "\n",
    "# Size of the matrix\n",
    "matrix_size = 200\n",
    "\n",
    "# Generate the invertible matrix\n",
    "matrix = generate_invertible_matrix(matrix_size)\n",
    "\n",
    "# Calculate the inverse\n",
    "matrix_inverse = np.linalg.inv(matrix)\n",
    "\n",
    "# Verify that the inverse is correct\n",
    "identity_matrix = np.dot(matrix, matrix_inverse)\n",
    "\n",
    "# Check if the result is close to the identity matrix\n",
    "if np.allclose(identity_matrix, np.eye(matrix_size)):\n",
    "    print(\"The matrix is invertible, and its inverse produces an identity matrix.\")\n",
    "else:\n",
    "    print(\"Error: The generated matrix or its inverse is incorrect.\")\n",
    "\n",
    "# Optional: Print the matrices for validation\n",
    "# Uncomment the lines below if needed (not recommended for large matrices due to output size)\n",
    "print(\"Original Matrix:\\n\", matrix)\n",
    "# print(\"Inverse Matrix:\\n\", matrix_inverse)\n",
    "# print(\"Resultant Identity Matrix:\\n\", identity_matrix)\n"
   ]
  }
 ],
 "metadata": {
  "kernelspec": {
   "display_name": "base",
   "language": "python",
   "name": "python3"
  },
  "language_info": {
   "codemirror_mode": {
    "name": "ipython",
    "version": 3
   },
   "file_extension": ".py",
   "mimetype": "text/x-python",
   "name": "python",
   "nbconvert_exporter": "python",
   "pygments_lexer": "ipython3",
   "version": "3.11.7"
  }
 },
 "nbformat": 4,
 "nbformat_minor": 2
}
