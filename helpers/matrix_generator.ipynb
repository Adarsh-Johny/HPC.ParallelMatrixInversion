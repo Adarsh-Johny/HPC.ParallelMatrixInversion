{
 "cells": [
  {
   "cell_type": "code",
   "execution_count": 9,
   "metadata": {},
   "outputs": [
    {
     "name": "stdout",
     "output_type": "stream",
     "text": [
      "Matrix of size 100x100 (version 1) saved as matrix_100x100_01.txt.\n",
      "Matrix of size 90x90 (version 1) saved as matrix_90x90_01.txt.\n",
      "Matrix of size 80x80 (version 1) saved as matrix_80x80_01.txt.\n",
      "Matrix of size 70x70 (version 1) saved as matrix_70x70_01.txt.\n",
      "Matrix of size 60x60 (version 1) saved as matrix_60x60_01.txt.\n",
      "Matrix of size 50x50 (version 1) saved as matrix_50x50_01.txt.\n",
      "Matrix of size 40x40 (version 1) saved as matrix_40x40_01.txt.\n",
      "Matrix of size 30x30 (version 1) saved as matrix_30x30_01.txt.\n",
      "Matrix of size 20x20 (version 1) saved as matrix_20x20_01.txt.\n"
     ]
    }
   ],
   "source": [
    "import numpy as np\n",
    "import os\n",
    "\n",
    "# Configuration for matrix sizes and versions\n",
    "matrix_config = [\n",
    "    (100, 1),\n",
    "    (90, 1),\n",
    "    (80, 1),\n",
    "    (70, 1),\n",
    "    (60, 1),\n",
    "    (50, 1),\n",
    "    (40, 1),\n",
    "    (30, 1),\n",
    "    (20, 1)\n",
    "]\n",
    "\n",
    "# Directory to save the matrices\n",
    "directory = \"../performance_test_matrices\"\n",
    "os.makedirs(directory, exist_ok=True)\n",
    "\n",
    "def generate_invertible_matrix(size):\n",
    "    while True:\n",
    "        # Generate a random matrix of the specified size\n",
    "        matrix = np.random.rand(size, size) * 100  # Scale values for variety\n",
    "        \n",
    "        # Check if the matrix is invertible by ensuring the determinant is not zero\n",
    "        if np.linalg.det(matrix) != 0:\n",
    "            return matrix\n",
    "\n",
    "def generate_file_name(size, version):\n",
    "    return f\"matrix_{size}x{size}_{version:02d}.txt\"\n",
    "\n",
    "# Iterate over the configuration\n",
    "for size, version in matrix_config:\n",
    "    # Generate the invertible matrix\n",
    "    matrix = generate_invertible_matrix(size)\n",
    "    \n",
    "    # Generate the file name\n",
    "    dynamic_filename = generate_file_name(size, version)\n",
    "    dynamic_file_path = os.path.join(directory, dynamic_filename)\n",
    "    \n",
    "    # Save the matrix in text format\n",
    "    np.savetxt(dynamic_file_path, matrix, fmt=\"%.6f\")\n",
    "    print(f\"Matrix of size {size}x{size} (version {version}) saved as {dynamic_filename}.\")\n"
   ]
  }
 ],
 "metadata": {
  "kernelspec": {
   "display_name": "base",
   "language": "python",
   "name": "python3"
  },
  "language_info": {
   "codemirror_mode": {
    "name": "ipython",
    "version": 3
   },
   "file_extension": ".py",
   "mimetype": "text/x-python",
   "name": "python",
   "nbconvert_exporter": "python",
   "pygments_lexer": "ipython3",
   "version": "3.11.7"
  }
 },
 "nbformat": 4,
 "nbformat_minor": 2
}
