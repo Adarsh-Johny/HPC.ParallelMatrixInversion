{
 "cells": [
  {
   "cell_type": "code",
   "execution_count": 1,
   "metadata": {},
   "outputs": [
    {
     "name": "stderr",
     "output_type": "stream",
     "text": [
      "/Users/adarshjohny/miniconda3/lib/python3.11/site-packages/numpy/linalg/linalg.py:2180: RuntimeWarning: overflow encountered in det\n",
      "  r = _umath_linalg.det(a, signature=signature)\n"
     ]
    },
    {
     "name": "stdout",
     "output_type": "stream",
     "text": [
      "Matrix of size 1000x1000 (version 1) saved as matrix_1000x1000_01.txt.\n",
      "Matrix of size 900x900 (version 1) saved as matrix_900x900_01.txt.\n",
      "Matrix of size 800x800 (version 1) saved as matrix_800x800_01.txt.\n",
      "Matrix of size 700x700 (version 1) saved as matrix_700x700_01.txt.\n",
      "Matrix of size 600x600 (version 1) saved as matrix_600x600_01.txt.\n",
      "Matrix of size 500x500 (version 1) saved as matrix_500x500_01.txt.\n",
      "Matrix of size 400x400 (version 1) saved as matrix_400x400_01.txt.\n",
      "Matrix of size 300x300 (version 1) saved as matrix_300x300_01.txt.\n",
      "Matrix of size 200x200 (version 1) saved as matrix_200x200_01.txt.\n"
     ]
    }
   ],
   "source": [
    "import numpy as np\n",
    "import os\n",
    "\n",
    "# Configuration for matrix sizes and versions\n",
    "matrix_config = [\n",
    "    (100, 1),\n",
    "    (90, 1),\n",
    "    (80, 1),\n",
    "    (70, 1),\n",
    "    (60, 1),\n",
    "    (50, 1),\n",
    "    (40, 1),\n",
    "    (30, 1),\n",
    "    (20, 1)\n",
    "]\n",
    "\n",
    "# Directory to save the matrices\n",
    "directory = \"../performance_test_matrices\"\n",
    "os.makedirs(directory, exist_ok=True)\n",
    "\n",
    "def generate_invertible_matrix(size):\n",
    "    while True:\n",
    "        # Generate a random matrix of the specified size\n",
    "        matrix = np.random.rand(size, size) * 100  # Scale values for variety\n",
    "        \n",
    "        # Check if the matrix is invertible by ensuring the determinant is not zero\n",
    "        if np.linalg.det(matrix) != 0:\n",
    "            return matrix\n",
    "\n",
    "def generate_file_name(size, version):\n",
    "    return f\"matrix_{size}x{size}_{version:02d}.txt\"\n",
    "\n",
    "# Iterate over the configuration\n",
    "for size, version in matrix_config:\n",
    "    # Generate the invertible matrix\n",
    "    matrix = generate_invertible_matrix(size)\n",
    "    \n",
    "    # Generate the file name\n",
    "    dynamic_filename = generate_file_name(size, version)\n",
    "    dynamic_file_path = os.path.join(directory, dynamic_filename)\n",
    "    \n",
    "    # Save the matrix in text format\n",
    "    np.savetxt(dynamic_file_path, matrix, fmt=\"%.6f\")\n",
    "    print(f\"Matrix of size {size}x{size} (version {version}) saved as {dynamic_filename}.\")\n"
   ]
  }
 ],
 "metadata": {
  "kernelspec": {
   "display_name": "base",
   "language": "python",
   "name": "python3"
  },
  "language_info": {
   "codemirror_mode": {
    "name": "ipython",
    "version": 3
   },
   "file_extension": ".py",
   "mimetype": "text/x-python",
   "name": "python",
   "nbconvert_exporter": "python",
   "pygments_lexer": "ipython3",
   "version": "3.11.7"
  }
 },
 "nbformat": 4,
 "nbformat_minor": 2
}
