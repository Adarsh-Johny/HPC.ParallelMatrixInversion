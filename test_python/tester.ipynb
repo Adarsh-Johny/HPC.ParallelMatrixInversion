{
 "cells": [
  {
   "cell_type": "markdown",
   "metadata": {},
   "source": [
    "## This is the function to test the inverse of the matrix is correct or not. Add the inverse in inverse.txt file and original matrix in matrix.txt in same folder."
   ]
  },
  {
   "cell_type": "code",
   "execution_count": 43,
   "metadata": {},
   "outputs": [
    {
     "name": "stdout",
     "output_type": "stream",
     "text": [
      "Shape of Matrix:  100\n",
      "\n",
      "\n",
      "     ========Original Inverse from File======        \n",
      "\n",
      "\n",
      "[[ 2.86634700e-03  3.21301140e-02  9.47369400e-03 ...  2.51164070e-02\n",
      "  -8.71035800e-03 -6.06742120e-02]\n",
      " [ 8.37011000e-04 -7.40932300e-03 -3.74803100e-03 ... -7.54318900e-03\n",
      "   9.60666000e-04  1.62257280e-02]\n",
      " [-8.08820000e-04  1.09098560e-02  9.01200000e-05 ...  7.82895000e-03\n",
      "   8.13629000e-04 -1.67229450e-02]\n",
      " ...\n",
      " [-2.55643800e-03 -5.83863570e-02 -1.00622270e-02 ... -4.88869800e-02\n",
      "   1.35900200e-02  1.05513966e-01]\n",
      " [-1.64122000e-03 -2.46696510e-02 -4.07370200e-03 ... -2.32407980e-02\n",
      "   3.89874200e-03  4.45917550e-02]\n",
      " [-1.68005200e-03 -9.53155900e-03  1.77997900e-03 ... -7.02113900e-03\n",
      "   5.08188000e-04  1.32014270e-02]]\n",
      "\n",
      "\n",
      "****************--- The matrices are inverses of each other. ---****************\n",
      "\n",
      "\n"
     ]
    }
   ],
   "source": [
    "import numpy as np\n",
    "\n",
    "def load_matrix(file_path):\n",
    "    return np.loadtxt(file_path)\n",
    "\n",
    "def check_inverse(matrix_file, inverse_file):\n",
    "    # Load the matrices\n",
    "    matrix = load_matrix(matrix_file)\n",
    "    inverse = load_matrix(inverse_file)\n",
    "    \n",
    "    print(\"Shape of Matrix: \",matrix.shape[0])\n",
    "    \n",
    "    calculated_inverse = np.linalg.inv(matrix)\n",
    "    \n",
    "    print(\"\\n\\n     ========Original Inverse from File======        \\n\\n\")\n",
    "    print(np.round(inverse, 9))\n",
    "    \n",
    "    # Calculate their product\n",
    "    product = np.dot(matrix, inverse)\n",
    "    # Identity matrix of appropriate size\n",
    "    identity = np.eye(matrix.shape[0])\n",
    "\n",
    "    # Check if the product is close to the identity matrix\n",
    "    if np.allclose(product, identity):\n",
    "        print(\"\\n\\n****************--- The matrices are inverses of each other. ---****************\\n\\n\")\n",
    "    else:\n",
    "        print(\"The matrices are NOT inverses. Calculating the inverse of the first matrix...\\n\")\n",
    "        \n",
    "        calculated_product = np.dot(matrix, calculated_inverse)\n",
    "        if np.allclose(calculated_product, identity):\n",
    "            print(\"The calculated inverse works. The matrices from the files were incorrect.\\n\")\n",
    "        else:\n",
    "            print(\"Even the calculated inverse does not produce the identity matrix. Check matrix conditioning.\\n\")\n",
    "        \n",
    "        # Print results\n",
    "        print(\"\\n========Calculated Inverse======\")\n",
    "        print(np.round(calculated_inverse, 9))\n",
    "        \n",
    "        print(\"\\n========Product of Original Matrix and File Inverse======\")\n",
    "        print(product.astype(int))\n",
    "        print(\"\\n========Product of Original Matrix and Calculated Inverse======\")\n",
    "        print(np.round(calculated_product, 3))\n",
    "\n",
    "matrix_file = \"matrix.txt\"\n",
    "inverse_file = \"inverse.txt\"\n",
    "\n",
    "# Check if the matrices are inverses\n",
    "check_inverse(matrix_file, inverse_file)\n"
   ]
  },
  {
   "cell_type": "markdown",
   "metadata": {},
   "source": [
    "Just to save matrix to file"
   ]
  },
  {
   "cell_type": "code",
   "execution_count": 42,
   "metadata": {},
   "outputs": [
    {
     "data": {
      "text/plain": [
       "'reversible_matrix.txt'"
      ]
     },
     "execution_count": 42,
     "metadata": {},
     "output_type": "execute_result"
    }
   ],
   "source": [
    "# Define the matrix\n",
    "matrix = [[8, 2, 1, 6, 1, 4, 4, 1, 1, 1, 9, 3, 7, 7, 7, 7, 5, 7, 9, 9],\n",
    "       [9, 8, 9, 2, 1, 6, 6, 8, 5, 5, 3, 6, 7, 2, 7, 8, 2, 4, 7, 2],\n",
    "       [4, 1, 1, 8, 2, 8, 2, 8, 8, 7, 4, 8, 1, 3, 8, 9, 3, 5, 8, 1],\n",
    "       [8, 1, 9, 2, 6, 7, 5, 6, 6, 3, 7, 9, 2, 6, 1, 8, 6, 6, 3, 4],\n",
    "       [2, 7, 8, 3, 3, 4, 5, 5, 9, 3, 5, 4, 7, 5, 4, 8, 1, 1, 9, 9],\n",
    "       [4, 4, 8, 1, 1, 1, 1, 3, 4, 7, 8, 3, 1, 5, 3, 9, 1, 7, 2, 9],\n",
    "       [9, 7, 7, 1, 2, 8, 4, 9, 1, 3, 7, 2, 3, 6, 1, 2, 5, 9, 6, 1],\n",
    "       [4, 6, 1, 6, 2, 4, 5, 6, 1, 5, 1, 4, 3, 3, 2, 6, 5, 3, 7, 7],\n",
    "       [5, 7, 1, 8, 2, 3, 7, 6, 8, 5, 7, 6, 7, 2, 3, 9, 7, 9, 4, 9],\n",
    "       [1, 2, 5, 3, 2, 6, 4, 4, 4, 7, 9, 3, 3, 2, 9, 6, 9, 1, 6, 5],\n",
    "       [5, 1, 5, 2, 6, 8, 7, 9, 1, 5, 8, 5, 6, 9, 1, 9, 9, 5, 9, 1],\n",
    "       [5, 7, 8, 7, 9, 7, 1, 1, 2, 7, 4, 8, 2, 1, 8, 5, 6, 8, 3, 5],\n",
    "       [4, 2, 2, 9, 7, 4, 4, 6, 4, 8, 3, 5, 2, 4, 8, 5, 5, 4, 5, 9],\n",
    "       [3, 3, 1, 4, 5, 2, 5, 7, 3, 4, 1, 7, 8, 1, 5, 7, 4, 6, 2, 3],\n",
    "       [5, 1, 5, 6, 2, 8, 7, 7, 5, 8, 5, 6, 1, 4, 2, 5, 8, 7, 8, 3],\n",
    "       [1, 7, 9, 9, 2, 9, 7, 6, 1, 7, 6, 9, 9, 1, 1, 2, 7, 4, 8, 2],\n",
    "       [6, 4, 1, 4, 2, 8, 8, 1, 4, 1, 6, 1, 3, 2, 9, 7, 2, 1, 4, 6],\n",
    "       [2, 7, 6, 5, 3, 8, 8, 7, 1, 3, 4, 8, 4, 6, 2, 1, 7, 4, 2, 2],\n",
    "       [5, 8, 6, 7, 4, 2, 2, 4, 9, 6, 5, 9, 7, 9, 9, 6, 4, 1, 6, 5],\n",
    "       [3, 3, 4, 7, 3, 6, 9, 1, 7, 7, 9, 6, 3, 8, 4, 1, 4, 1, 1, 2]]\n",
    "\n",
    "# Save the matrix to a text file\n",
    "file_path = \"reversible_matrix.txt\"\n",
    "np.savetxt(file_path, matrix, fmt=\"%.4f\")\n",
    "\n",
    "file_path\n"
   ]
  }
 ],
 "metadata": {
  "kernelspec": {
   "display_name": "base",
   "language": "python",
   "name": "python3"
  },
  "language_info": {
   "codemirror_mode": {
    "name": "ipython",
    "version": 3
   },
   "file_extension": ".py",
   "mimetype": "text/x-python",
   "name": "python",
   "nbconvert_exporter": "python",
   "pygments_lexer": "ipython3",
   "version": "3.11.7"
  }
 },
 "nbformat": 4,
 "nbformat_minor": 2
}
